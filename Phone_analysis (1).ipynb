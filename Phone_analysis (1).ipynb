{
 "cells": [
  {
   "cell_type": "code",
   "execution_count": 17,
   "metadata": {},
   "outputs": [],
   "source": [
    "        #importing libraries\n",
    "        import pandas as pd\n",
    "        import matplotlib.pyplot as plt\n",
    "        import numpy as np\n",
    "        from sklearn.preprocessing import Imputer"
   ]
  },
  {
   "cell_type": "code",
   "execution_count": 18,
   "metadata": {},
   "outputs": [
    {
     "data": {
      "text/html": [
       "<div>\n",
       "<style scoped>\n",
       "    .dataframe tbody tr th:only-of-type {\n",
       "        vertical-align: middle;\n",
       "    }\n",
       "\n",
       "    .dataframe tbody tr th {\n",
       "        vertical-align: top;\n",
       "    }\n",
       "\n",
       "    .dataframe thead th {\n",
       "        text-align: right;\n",
       "    }\n",
       "</style>\n",
       "<table border=\"1\" class=\"dataframe\">\n",
       "  <thead>\n",
       "    <tr style=\"text-align: right;\">\n",
       "      <th></th>\n",
       "      <th>order_id</th>\n",
       "      <th>customer_id</th>\n",
       "      <th>restaurant_name</th>\n",
       "      <th>cuisine_type</th>\n",
       "      <th>cost_of_the_order</th>\n",
       "      <th>day_of_the_week</th>\n",
       "      <th>rating</th>\n",
       "      <th>food_preparation_time</th>\n",
       "      <th>delivery_time</th>\n",
       "    </tr>\n",
       "  </thead>\n",
       "  <tbody>\n",
       "    <tr>\n",
       "      <th>0</th>\n",
       "      <td>1477147</td>\n",
       "      <td>337525</td>\n",
       "      <td>Hangawi</td>\n",
       "      <td>Korean</td>\n",
       "      <td>30.75</td>\n",
       "      <td>Weekend</td>\n",
       "      <td>Not given</td>\n",
       "      <td>25</td>\n",
       "      <td>20</td>\n",
       "    </tr>\n",
       "    <tr>\n",
       "      <th>1</th>\n",
       "      <td>1477685</td>\n",
       "      <td>358141</td>\n",
       "      <td>Blue Ribbon Sushi Izakaya</td>\n",
       "      <td>Japanese</td>\n",
       "      <td>12.08</td>\n",
       "      <td>Weekend</td>\n",
       "      <td>Not given</td>\n",
       "      <td>25</td>\n",
       "      <td>23</td>\n",
       "    </tr>\n",
       "    <tr>\n",
       "      <th>2</th>\n",
       "      <td>1477070</td>\n",
       "      <td>66393</td>\n",
       "      <td>Cafe Habana</td>\n",
       "      <td>Mexican</td>\n",
       "      <td>12.23</td>\n",
       "      <td>Weekday</td>\n",
       "      <td>5</td>\n",
       "      <td>23</td>\n",
       "      <td>28</td>\n",
       "    </tr>\n",
       "    <tr>\n",
       "      <th>3</th>\n",
       "      <td>1477334</td>\n",
       "      <td>106968</td>\n",
       "      <td>Blue Ribbon Fried Chicken</td>\n",
       "      <td>American</td>\n",
       "      <td>29.20</td>\n",
       "      <td>Weekend</td>\n",
       "      <td>3</td>\n",
       "      <td>25</td>\n",
       "      <td>15</td>\n",
       "    </tr>\n",
       "    <tr>\n",
       "      <th>4</th>\n",
       "      <td>1478249</td>\n",
       "      <td>76942</td>\n",
       "      <td>Dirty Bird to Go</td>\n",
       "      <td>American</td>\n",
       "      <td>11.59</td>\n",
       "      <td>Weekday</td>\n",
       "      <td>4</td>\n",
       "      <td>25</td>\n",
       "      <td>24</td>\n",
       "    </tr>\n",
       "  </tbody>\n",
       "</table>\n",
       "</div>"
      ],
      "text/plain": [
       "   order_id  customer_id            restaurant_name cuisine_type  \\\n",
       "0   1477147       337525                    Hangawi       Korean   \n",
       "1   1477685       358141  Blue Ribbon Sushi Izakaya     Japanese   \n",
       "2   1477070        66393                Cafe Habana      Mexican   \n",
       "3   1477334       106968  Blue Ribbon Fried Chicken     American   \n",
       "4   1478249        76942           Dirty Bird to Go     American   \n",
       "\n",
       "   cost_of_the_order day_of_the_week     rating  food_preparation_time  \\\n",
       "0              30.75         Weekend  Not given                     25   \n",
       "1              12.08         Weekend  Not given                     25   \n",
       "2              12.23         Weekday          5                     23   \n",
       "3              29.20         Weekend          3                     25   \n",
       "4              11.59         Weekday          4                     25   \n",
       "\n",
       "   delivery_time  \n",
       "0             20  \n",
       "1             23  \n",
       "2             28  \n",
       "3             15  \n",
       "4             24  "
      ]
     },
     "execution_count": 18,
     "metadata": {},
     "output_type": "execute_result"
    }
   ],
   "source": [
    "#loading in the dataframe and looking at the data\n",
    "food = pd.read_csv(r'C:\\Users\\Jeshu\\Downloads\\Dataset\\archive\\food_order.csv')\n",
    "food.head()"
   ]
  },
  {
   "cell_type": "code",
   "execution_count": 19,
   "metadata": {},
   "outputs": [
    {
     "data": {
      "text/html": [
       "<div>\n",
       "<style scoped>\n",
       "    .dataframe tbody tr th:only-of-type {\n",
       "        vertical-align: middle;\n",
       "    }\n",
       "\n",
       "    .dataframe tbody tr th {\n",
       "        vertical-align: top;\n",
       "    }\n",
       "\n",
       "    .dataframe thead th {\n",
       "        text-align: right;\n",
       "    }\n",
       "</style>\n",
       "<table border=\"1\" class=\"dataframe\">\n",
       "  <thead>\n",
       "    <tr style=\"text-align: right;\">\n",
       "      <th></th>\n",
       "      <th>restaurant_name</th>\n",
       "      <th>cuisine_type</th>\n",
       "      <th>cost_of_the_order</th>\n",
       "      <th>day_of_the_week</th>\n",
       "      <th>rating</th>\n",
       "      <th>food_preparation_time</th>\n",
       "      <th>delivery_time</th>\n",
       "    </tr>\n",
       "  </thead>\n",
       "  <tbody>\n",
       "    <tr>\n",
       "      <th>0</th>\n",
       "      <td>Hangawi</td>\n",
       "      <td>Korean</td>\n",
       "      <td>30.75</td>\n",
       "      <td>Weekend</td>\n",
       "      <td>Not given</td>\n",
       "      <td>25</td>\n",
       "      <td>20</td>\n",
       "    </tr>\n",
       "    <tr>\n",
       "      <th>1</th>\n",
       "      <td>Blue Ribbon Sushi Izakaya</td>\n",
       "      <td>Japanese</td>\n",
       "      <td>12.08</td>\n",
       "      <td>Weekend</td>\n",
       "      <td>Not given</td>\n",
       "      <td>25</td>\n",
       "      <td>23</td>\n",
       "    </tr>\n",
       "    <tr>\n",
       "      <th>2</th>\n",
       "      <td>Cafe Habana</td>\n",
       "      <td>Mexican</td>\n",
       "      <td>12.23</td>\n",
       "      <td>Weekday</td>\n",
       "      <td>5</td>\n",
       "      <td>23</td>\n",
       "      <td>28</td>\n",
       "    </tr>\n",
       "    <tr>\n",
       "      <th>3</th>\n",
       "      <td>Blue Ribbon Fried Chicken</td>\n",
       "      <td>American</td>\n",
       "      <td>29.20</td>\n",
       "      <td>Weekend</td>\n",
       "      <td>3</td>\n",
       "      <td>25</td>\n",
       "      <td>15</td>\n",
       "    </tr>\n",
       "    <tr>\n",
       "      <th>4</th>\n",
       "      <td>Dirty Bird to Go</td>\n",
       "      <td>American</td>\n",
       "      <td>11.59</td>\n",
       "      <td>Weekday</td>\n",
       "      <td>4</td>\n",
       "      <td>25</td>\n",
       "      <td>24</td>\n",
       "    </tr>\n",
       "  </tbody>\n",
       "</table>\n",
       "</div>"
      ],
      "text/plain": [
       "             restaurant_name cuisine_type  cost_of_the_order day_of_the_week  \\\n",
       "0                    Hangawi       Korean              30.75         Weekend   \n",
       "1  Blue Ribbon Sushi Izakaya     Japanese              12.08         Weekend   \n",
       "2                Cafe Habana      Mexican              12.23         Weekday   \n",
       "3  Blue Ribbon Fried Chicken     American              29.20         Weekend   \n",
       "4           Dirty Bird to Go     American              11.59         Weekday   \n",
       "\n",
       "      rating  food_preparation_time  delivery_time  \n",
       "0  Not given                     25             20  \n",
       "1  Not given                     25             23  \n",
       "2          5                     23             28  \n",
       "3          3                     25             15  \n",
       "4          4                     25             24  "
      ]
     },
     "execution_count": 19,
     "metadata": {},
     "output_type": "execute_result"
    }
   ],
   "source": [
    "#drop the order id and the customer id since it is not relevant at the moment\n",
    "n = 2\n",
    "food.drop(columns=food.columns[:n], axis=1,  inplace=True)\n",
    "food.head()"
   ]
  },
  {
   "cell_type": "code",
   "execution_count": 20,
   "metadata": {},
   "outputs": [
    {
     "name": "stdout",
     "output_type": "stream",
     "text": [
      "The DataFrame does not contain any missing values.\n"
     ]
    }
   ],
   "source": [
    "#checking if the data has any missing values\n",
    "has_na = food.isna().any().any()\n",
    "if has_na:\n",
    "    print(\"The DataFrame contains missing values.\")\n",
    "else:\n",
    "    print(\"The DataFrame does not contain any missing values.\")"
   ]
  },
  {
   "cell_type": "code",
   "execution_count": null,
   "metadata": {},
   "outputs": [],
   "source": [
    "#checking if there are duplicated rows in the dataset\n",
    "duplicated_rows=food[food.duplicated()]\n",
    "print(f'Amount of Duplicated Rows Present in the dataset: {duplicated_rows.shape[0]}')"
   ]
  },
  {
   "cell_type": "code",
   "execution_count": 21,
   "metadata": {},
   "outputs": [
    {
     "data": {
      "text/plain": [
       "array(['Hangawi', 'Blue Ribbon Sushi Izakaya', 'Cafe Habana',\n",
       "       'Blue Ribbon Fried Chicken', 'Dirty Bird to Go',\n",
       "       'Tamarind TriBeCa', 'The Meatball Shop', 'Barbounia',\n",
       "       'Anjappar Chettinad', 'Bukhara Grill',\n",
       "       'Big Wong Restaurant \\x8c_¤¾Ñ¼', 'Empanada Mama (closed)', 'Pylos',\n",
       "       \"Lucky's Famous Burgers\", 'Shake Shack', 'Sushi of Gari',\n",
       "       'RedFarm Hudson', 'Blue Ribbon Sushi',\n",
       "       'Five Guys Burgers and Fries', 'Tortaria', 'Cafe Mogador',\n",
       "       'Otto Enoteca Pizzeria', 'Vezzo Thin Crust Pizza',\n",
       "       'Sushi of Gari 46', 'The Kati Roll Company', 'Klong',\n",
       "       '5 Napkin Burger', 'TAO', 'Parm', 'Sushi Samba',\n",
       "       'Haru Gramercy Park', 'Chipotle Mexican Grill $1.99 Delivery',\n",
       "       'RedFarm Broadway', 'Cafeteria', 'DuMont Burger',\n",
       "       \"Sarabeth's East\", 'Hill Country Fried Chicken', 'Bistango',\n",
       "       \"Jack's Wife Freda\", \"Mamoun's Falafel\", 'Prosperity Dumpling',\n",
       "       'Blue Ribbon Sushi Bar & Grill', 'Westville Hudson',\n",
       "       'Blue Ribbon Brooklyn', 'Nobu Next Door', 'Osteria Morini',\n",
       "       'Haandi', 'Benihana', 'Han Dynasty', 'Chote Nawab',\n",
       "       'Mission Cantina', \"Xi'an Famous Foods\", 'Rubirosa',\n",
       "       \"Joe's Shanghai \\x8e_À\\x8eü£¾÷´\", 'Bareburger', 'The Odeon',\n",
       "       'Pongsri Thai', 'Yama Japanese Restaurant', 'Momoya',\n",
       "       'Balthazar Boulangerie', 'CafÌ© China', 'Boqueria',\n",
       "       'Song Thai Restaurant & Bar', 'Five Leaves',\n",
       "       'Pinto Nouveau Thai Bistro', \"Amy Ruth's\", 'Pepe Giallo',\n",
       "       'indikitch', 'Yama 49', 'Piccolo Angolo', 'Pepe Rosso To Go',\n",
       "       \"L'Express\", 'Amma', 'Delicatessen', \"S'MAC\",\n",
       "       \"Vanessa's Dumplings\", 'Bhatti Indian Grill', 'Taro Sushi',\n",
       "       'Donburi-ya', 'Hatsuhana', 'Samurai Mama', 'Waverly Diner',\n",
       "       'Tarallucci e Vino Restaurant', \"P.J. Clarke's\",\n",
       "       'Lantern Thai Kitchen', 'ilili Restaurant', 'The Smile',\n",
       "       \"Vanessa's Dumpling House\", \"Bubby's \", 'Woorijip',\n",
       "       'Dirty Bird To Go (archived)', 'Haveli Indian Restaurant',\n",
       "       'Dos Caminos', 'da Umberto', 'Sushi of Gari Tribeca',\n",
       "       'Burger Joint', 'Room Service', \"Sarabeth's Restaurant\",\n",
       "       'Xe May Sandwich Shop', 'Hibino', 'Mira Sushi', 'Melt Shop',\n",
       "       'J. G. Melon', 'Hummus Place', 'Saravanaa Bhavan',\n",
       "       'Friend of a Farmer', 'The Loop', 'Balade', 'Posto',\n",
       "       'Terakawa Ramen', 'Kambi Ramen House', 'Wo Hop Restaurant',\n",
       "       'Spice Thai', \"Dickson's Farmstand Meats\",\n",
       "       'UVA Wine Bar & Restaurant', 'Serafina Fabulous Pizza',\n",
       "       'Gaia Italian Cafe', 'Chola Eclectic Indian Cuisine',\n",
       "       'Hot Kitchen', 'Junoon', 'Ravagh Persian Grill', 'Rohm Thai',\n",
       "       'Dig Inn Seasonal Market', 'Olea', 'Cho Dang Gol',\n",
       "       'El Parador Cafe', 'Socarrat Paella Bar',\n",
       "       \"Don's Bogam BBQ & Wine Bar\", 'Alidoro', \"Tony's Di Napoli\",\n",
       "       'Cipriani Le Specialita', 'Sushi Choshi', 'Kanoyama', 'V-Nam Cafe',\n",
       "       'Zero Otto Nove', 'Dos Caminos Soho', 'Go! Go! Curry!',\n",
       "       'La Follia', 'Izakaya Ten', '12 Chairs', 'Philippe Chow',\n",
       "       'The MasalaWala', 'brgr', \"Carmine's\", 'Asuka Sushi', 'Aurora',\n",
       "       \"Sarabeth's\", 'Crema Restaurante', \"Big Daddy's\",\n",
       "       'Moonstruck on Second', 'Cafe de La Esquina', 'Olive Garden',\n",
       "       '67 Burger', 'Tres Carnes', \"Schnipper's Quality Kitchen\",\n",
       "       'Nha Trang One', 'Market Table', 'Galli Restaurant',\n",
       "       'Hampton Chutney Co.', 'Byblos Restaurant',\n",
       "       'Grand Sichuan International', 'Le Grainne Cafe', 'Il Bambino',\n",
       "       'Kori Restaurant and Bar', 'DespaÌ±a', 'Lamarca Pasta',\n",
       "       'Lucky Strike', \"Paul & Jimmy's\", 'Hunan Manor', \"Coppola's East\",\n",
       "       'Emporio', 'Wa Jeal', 'Le Zie 2000 Trattoria', 'Rye House',\n",
       "       \"Hiroko's Place\", 'Frank Restaurant', \"Sarabeth's West\",\n",
       "       \"'wichcraft\"], dtype=object)"
      ]
     },
     "execution_count": 21,
     "metadata": {},
     "output_type": "execute_result"
    }
   ],
   "source": [
    "#checking for unique values that might need to be changed an/or deleted this is done with the unique feature\n",
    "food['restaurant_name'].unique()"
   ]
  },
  {
   "cell_type": "code",
   "execution_count": 22,
   "metadata": {},
   "outputs": [
    {
     "data": {
      "text/plain": [
       "array(['Hangawi', 'Blue Ribbon Sushi Izakaya', 'Cafe Habana',\n",
       "       'Blue Ribbon Fried Chicken', 'Dirty Bird to Go',\n",
       "       'Tamarind TriBeCa', 'The Meatball Shop', 'Barbounia',\n",
       "       'Anjappar Chettinad', 'Bukhara Grill', 'Big Wong Restaurant',\n",
       "       'Empanada Mama (closed)', 'Pylos', \"Lucky's Famous Burgers\",\n",
       "       'Shake Shack', 'Sushi of Gari', 'RedFarm Hudson',\n",
       "       'Blue Ribbon Sushi', 'Five Guys Burgers and Fries', 'Tortaria',\n",
       "       'Cafe Mogador', 'Otto Enoteca Pizzeria', 'Vezzo Thin Crust Pizza',\n",
       "       'Sushi of Gari 46', 'The Kati Roll Company', 'Klong',\n",
       "       '5 Napkin Burger', 'TAO', 'Parm', 'Sushi Samba',\n",
       "       'Haru Gramercy Park', 'Chipotle Mexican Grill', 'RedFarm Broadway',\n",
       "       'Cafeteria', 'DuMont Burger', \"Sarabeth's East\",\n",
       "       'Hill Country Fried Chicken', 'Bistango', \"Jack's Wife Freda\",\n",
       "       \"Mamoun's Falafel\", 'Prosperity Dumpling',\n",
       "       'Blue Ribbon Sushi Bar & Grill', 'Westville Hudson',\n",
       "       'Blue Ribbon Brooklyn', 'Nobu Next Door', 'Osteria Morini',\n",
       "       'Haandi', 'Benihana', 'Han Dynasty', 'Chote Nawab',\n",
       "       'Mission Cantina', \"Xi'an Famous Foods\", 'Rubirosa',\n",
       "       \"Joe's Shanghai\", 'Bareburger', 'The Odeon', 'Pongsri Thai',\n",
       "       'Yama Japanese Restaurant', 'Momoya', 'Balthazar Boulangerie',\n",
       "       'CafÌ© China', 'Boqueria', 'Song Thai Restaurant & Bar',\n",
       "       'Five Leaves', 'Pinto Nouveau Thai Bistro', \"Amy Ruth's\",\n",
       "       'Pepe Giallo', 'indikitch', 'Yama 49', 'Piccolo Angolo',\n",
       "       'Pepe Rosso To Go', \"L'Express\", 'Amma', 'Delicatessen', \"S'MAC\",\n",
       "       \"Vanessa's Dumplings\", 'Bhatti Indian Grill', 'Taro Sushi',\n",
       "       'Donburi-ya', 'Hatsuhana', 'Samurai Mama', 'Waverly Diner',\n",
       "       'Tarallucci e Vino Restaurant', \"P.J. Clarke's\",\n",
       "       'Lantern Thai Kitchen', 'ilili Restaurant', 'The Smile',\n",
       "       \"Vanessa's Dumpling House\", \"Bubby's \", 'Woorijip',\n",
       "       'Dirty Bird To Go (archived)', 'Haveli Indian Restaurant',\n",
       "       'Dos Caminos', 'da Umberto', 'Sushi of Gari Tribeca',\n",
       "       'Burger Joint', 'Room Service', \"Sarabeth's Restaurant\",\n",
       "       'Xe May Sandwich Shop', 'Hibino', 'Mira Sushi', 'Melt Shop',\n",
       "       'J. G. Melon', 'Hummus Place', 'Saravanaa Bhavan',\n",
       "       'Friend of a Farmer', 'The Loop', 'Balade', 'Posto',\n",
       "       'Terakawa Ramen', 'Kambi Ramen House', 'Wo Hop Restaurant',\n",
       "       'Spice Thai', \"Dickson's Farmstand Meats\",\n",
       "       'UVA Wine Bar & Restaurant', 'Serafina Fabulous Pizza',\n",
       "       'Gaia Italian Cafe', 'Chola Eclectic Indian Cuisine',\n",
       "       'Hot Kitchen', 'Junoon', 'Ravagh Persian Grill', 'Rohm Thai',\n",
       "       'Dig Inn Seasonal Market', 'Olea', 'Cho Dang Gol',\n",
       "       'El Parador Cafe', 'Socarrat Paella Bar',\n",
       "       \"Don's Bogam BBQ & Wine Bar\", 'Alidoro', \"Tony's Di Napoli\",\n",
       "       'Cipriani Le Specialita', 'Sushi Choshi', 'Kanoyama', 'V-Nam Cafe',\n",
       "       'Zero Otto Nove', 'Dos Caminos Soho', 'Go! Go! Curry!',\n",
       "       'La Follia', 'Izakaya Ten', '12 Chairs', 'Philippe Chow',\n",
       "       'The MasalaWala', 'brgr', \"Carmine's\", 'Asuka Sushi', 'Aurora',\n",
       "       \"Sarabeth's\", 'Crema Restaurante', \"Big Daddy's\",\n",
       "       'Moonstruck on Second', 'Cafe de La Esquina', 'Olive Garden',\n",
       "       '67 Burger', 'Tres Carnes', \"Schnipper's Quality Kitchen\",\n",
       "       'Nha Trang One', 'Market Table', 'Galli Restaurant',\n",
       "       'Hampton Chutney Co.', 'Byblos Restaurant',\n",
       "       'Grand Sichuan International', 'Le Grainne Cafe', 'Il Bambino',\n",
       "       'Kori Restaurant and Bar', 'DespaÌ±a', 'Lamarca Pasta',\n",
       "       'Lucky Strike', \"Paul & Jimmy's\", 'Hunan Manor', \"Coppola's East\",\n",
       "       'Emporio', 'Wa Jeal', 'Le Zie 2000 Trattoria', 'Rye House',\n",
       "       \"Hiroko's Place\", 'Frank Restaurant', \"Sarabeth's West\",\n",
       "       \"'wichcraft\"], dtype=object)"
      ]
     },
     "execution_count": 22,
     "metadata": {},
     "output_type": "execute_result"
    }
   ],
   "source": [
    "#replacing the wrong/ invalid restaurant names\n",
    "food.restaurant_name =  food.restaurant_name.replace(to_replace=['Big Wong Restaurant \\x8c_¤¾Ñ¼', 'Chipotle Mexican Grill $1.99 Delivery', \"Joe's Shanghai \\x8e_À\\x8eü£¾÷´\"],\n",
    "                             value=['Big Wong Restaurant', 'Chipotle Mexican Grill', \"Joe's Shanghai\"])\n",
    "food['restaurant_name'].unique()"
   ]
  },
  {
   "cell_type": "code",
   "execution_count": 23,
   "metadata": {},
   "outputs": [
    {
     "data": {
      "text/plain": [
       "array(['Korean', 'Japanese', 'Mexican', 'American', 'Indian', 'Italian',\n",
       "       'Mediterranean', 'Chinese', 'Middle Eastern', 'Thai', 'Southern',\n",
       "       'French', 'Spanish', 'Vietnamese'], dtype=object)"
      ]
     },
     "execution_count": 23,
     "metadata": {},
     "output_type": "execute_result"
    }
   ],
   "source": [
    "#Checking if the cuisine type has any wrong values\n",
    "food['cuisine_type'].unique()"
   ]
  },
  {
   "cell_type": "code",
   "execution_count": 24,
   "metadata": {},
   "outputs": [
    {
     "data": {
      "text/plain": [
       "Weekend    1351\n",
       "Weekday     547\n",
       "Name: day_of_the_week, dtype: int64"
      ]
     },
     "execution_count": 24,
     "metadata": {},
     "output_type": "execute_result"
    }
   ],
   "source": [
    "#Checking if the day_of_the_week has any wrong values\n",
    "food['day_of_the_week'].unique()\n",
    "food['day_of_the_week'].value_counts()"
   ]
  },
  {
   "cell_type": "code",
   "execution_count": 25,
   "metadata": {},
   "outputs": [
    {
     "data": {
      "text/plain": [
       "array(['Not given', '5', '3', '4'], dtype=object)"
      ]
     },
     "execution_count": 25,
     "metadata": {},
     "output_type": "execute_result"
    }
   ],
   "source": [
    "#Checking if the rating has any wrong values\n",
    "food['rating'].unique()"
   ]
  },
  {
   "cell_type": "code",
   "execution_count": 26,
   "metadata": {},
   "outputs": [
    {
     "name": "stdout",
     "output_type": "stream",
     "text": [
      "['cost_of_the_order', 'food_preparation_time', 'delivery_time']\n"
     ]
    }
   ],
   "source": [
    "#getting all the nummeric columns from the dataset\n",
    "num_feature=[feature for feature in food.columns if food[feature].dtype!='O']\n",
    "print(num_feature)"
   ]
  },
  {
   "cell_type": "code",
   "execution_count": 27,
   "metadata": {},
   "outputs": [
    {
     "data": {
      "image/png": "[encoded data removed]",
      "text/plain": [
       "<Figure size 1440x360 with 3 Axes>"
      ]
     },
     "metadata": {
      "needs_background": "light"
     },
     "output_type": "display_data"
    }
   ],
   "source": [
    "#visualizing the nummeric data in histograms\n",
    "fig, ax = plt.subplots(1, 3)\n",
    "fig.set_figheight(5)\n",
    "fig.set_figwidth(20)\n",
    "ax[0].hist(food['delivery_time'], bins=15, color='blue')\n",
    "ax[0].set_title('Delivery time')\n",
    "ax[0].set_ylabel('Amount of orders')\n",
    "ax[0].set_xlabel('Time in minutes')\n",
    "\n",
    "ax[1].hist(food['food_preparation_time'], bins=15, color='red')\n",
    "ax[1].set_title('Food preperation time')\n",
    "ax[1].set_ylabel('Amount of orders')\n",
    "ax[1].set_xlabel('Time in minutes')\n",
    "\n",
    "ax[2].hist(food['cost_of_the_order'], bins=15, color='green')\n",
    "ax[2].set_ylabel('Amount of orders')\n",
    "ax[2].set_xlabel('Cost in dollars')\n",
    "ax[2].set_title('Cost of the order')\n",
    "plt.show()"
   ]
  },
  {
   "cell_type": "code",
   "execution_count": 28,
   "metadata": {},
   "outputs": [
    {
     "data": {
      "image/png": "[encoded data removed]",
      "text/plain": [
       "<Figure size 1440x360 with 3 Axes>"
      ]
     },
     "metadata": {
      "needs_background": "light"
     },
     "output_type": "display_data"
    }
   ],
   "source": [
    "#visualizing the nummeric data in boxplots\n",
    "fig, ax = plt.subplots(1, 3)\n",
    "fig.set_figheight(5)\n",
    "fig.set_figwidth(20)\n",
    "ax[0].boxplot(food['delivery_time'])\n",
    "ax[0].set_title('Delivery time')\n",
    "ax[0].set_ylabel('Time in minutes')\n",
    "\n",
    "ax[1].boxplot(food['food_preparation_time'])\n",
    "ax[1].set_title('Food preperation time')\n",
    "ax[1].set_ylabel('Time in minutes')\n",
    "\n",
    "ax[2].boxplot(food['cost_of_the_order'])\n",
    "ax[2].set_ylabel('Cost in dollars')\n",
    "ax[2].set_title('Cost of the order')\n",
    "plt.show()"
   ]
  },
  {
   "cell_type": "code",
   "execution_count": null,
   "metadata": {},
   "outputs": [],
   "source": [
    "from matplotlib.pyplot import figure\n",
    "figure(figsize=(10,5), dpi=80)\n",
    "plt.scatter(food['cost_of_the_order'], food['food_preparation_time'])\n",
    "plt.ylabel('preperation time in minutes')\n",
    "plt.xlabel('cost of the order in dollars')\n",
    "plt.show()"
   ]
  },
  {
   "cell_type": "code",
   "execution_count": 29,
   "metadata": {},
   "outputs": [
    {
     "data": {
      "image/png": "[encoded data removed]",
      "text/plain": [
       "<Figure size 432x288 with 1 Axes>"
      ]
     },
     "metadata": {
      "needs_background": "light"
     },
     "output_type": "display_data"
    }
   ],
   "source": [
    "#Plotting the cuisine type data\n",
    "food['cuisine_type'].value_counts().sort_values(ascending=True).plot(kind='barh', align='center', color=['red', 'green', 'blue', 'black'])\n",
    "plt.ylabel('cuisine type')\n",
    "plt.xlabel('Total orders')\n",
    "plt.grid()\n",
    "plt.show()"
   ]
  },
  {
   "cell_type": "code",
   "execution_count": 30,
   "metadata": {},
   "outputs": [
    {
     "name": "stdout",
     "output_type": "stream",
     "text": [
      "     cuisine_type  cost_of_the_order  food_preparation_time  delivery_time\n",
      "1        Japanese              12.08                     25             23\n",
      "3        American              29.20                     25             15\n",
      "4        American              11.59                     25             24\n",
      "12       American              24.30                     23             17\n",
      "14       American              12.13                     23             30\n",
      "15       American              16.20                     33             25\n",
      "16       Japanese              16.98                     30             16\n",
      "17       Japanese              33.03                     21             22\n",
      "19       Japanese              16.20                     35             26\n",
      "20       American              24.20                     21             24\n",
      "21       American              15.91                     25             20\n",
      "22       American              29.10                     21             30\n",
      "29       Japanese              12.18                     20             29\n",
      "32       American               8.39                     35             24\n",
      "33       Japanese               9.12                     34             18\n",
      "35       Japanese              15.47                     32             26\n",
      "36       Japanese              16.01                     23             31\n",
      "38       Japanese              29.83                     20             32\n",
      "39       American              19.89                     27             19\n",
      "41       Japanese              33.22                     23             19\n",
      "43       American              16.44                     33             22\n",
      "44       American              22.75                     30             20\n",
      "46       American              29.05                     22             30\n",
      "47       American              13.78                     34             24\n",
      "48       American              19.89                     27             24\n",
      "51       American              29.39                     27             28\n",
      "52       Japanese              20.23                     22             20\n",
      "56       Japanese              14.60                     24             24\n",
      "59       American               6.79                     33             28\n",
      "60       American              24.25                     28             21\n",
      "...           ...                ...                    ...            ...\n",
      "1856     American              16.98                     23             23\n",
      "1858     Japanese              29.15                     27             15\n",
      "1860     American              24.25                     28             20\n",
      "1861     Japanese              19.45                     28             28\n",
      "1862     American              16.11                     25             24\n",
      "1863     Japanese              31.43                     29             30\n",
      "1865     Japanese              12.13                     24             23\n",
      "1867     Japanese               8.54                     34             29\n",
      "1869     American              19.40                     35             26\n",
      "1870     American              12.23                     31             24\n",
      "1871     Japanese               6.69                     28             17\n",
      "1872     American              29.59                     23             25\n",
      "1873     American              22.31                     35             28\n",
      "1874     American              12.56                     35             19\n",
      "1877     American               8.10                     28             28\n",
      "1878     Japanese               5.92                     27             31\n",
      "1879     Japanese              12.13                     28             15\n",
      "1880     American              13.97                     35             27\n",
      "1881     American              12.23                     27             18\n",
      "1882     American              16.98                     30             19\n",
      "1883     American               9.27                     24             23\n",
      "1884     American              31.43                     31             24\n",
      "1885     American              29.05                     27             29\n",
      "1886     American              14.50                     34             25\n",
      "1887     American               5.82                     26             30\n",
      "1890     Japanese              15.67                     20             22\n",
      "1891     American               5.82                     22             28\n",
      "1894     American              12.18                     31             19\n",
      "1895     Japanese              25.22                     31             24\n",
      "1897     Japanese              19.45                     28             24\n",
      "\n",
      "[1054 rows x 4 columns]\n"
     ]
    }
   ],
   "source": [
    "#selecting only the American or Japanese restuarants so we kan fit a knn classifier\n",
    "food_knn = food[['cuisine_type','cost_of_the_order', 'food_preparation_time', 'delivery_time']]\n",
    "food_knn_am_jap = food_knn[(food_knn['cuisine_type'] == 'Japanese') | (food_knn['cuisine_type'] == 'American')]\n",
    "print(food_knn_am_jap)"
   ]
  },
  {
   "cell_type": "code",
   "execution_count": 32,
   "metadata": {},
   "outputs": [
    {
     "name": "stdout",
     "output_type": "stream",
     "text": [
      "0.5402843601895735\n",
      "['American' 'Japanese' 'American' ... 'American' 'Japanese' 'American']\n"
     ]
    },
    {
     "data": {
      "text/html": [
       "<div>\n",
       "<style scoped>\n",
       "    .dataframe tbody tr th:only-of-type {\n",
       "        vertical-align: middle;\n",
       "    }\n",
       "\n",
       "    .dataframe tbody tr th {\n",
       "        vertical-align: top;\n",
       "    }\n",
       "\n",
       "    .dataframe thead th {\n",
       "        text-align: right;\n",
       "    }\n",
       "</style>\n",
       "<table border=\"1\" class=\"dataframe\">\n",
       "  <thead>\n",
       "    <tr style=\"text-align: right;\">\n",
       "      <th></th>\n",
       "      <th>cuisine_type</th>\n",
       "      <th>cost_of_the_order</th>\n",
       "      <th>food_preparation_time</th>\n",
       "      <th>delivery_time</th>\n",
       "    </tr>\n",
       "  </thead>\n",
       "  <tbody>\n",
       "    <tr>\n",
       "      <th>1</th>\n",
       "      <td>Japanese</td>\n",
       "      <td>12.08</td>\n",
       "      <td>25</td>\n",
       "      <td>23</td>\n",
       "    </tr>\n",
       "    <tr>\n",
       "      <th>3</th>\n",
       "      <td>American</td>\n",
       "      <td>29.20</td>\n",
       "      <td>25</td>\n",
       "      <td>15</td>\n",
       "    </tr>\n",
       "    <tr>\n",
       "      <th>4</th>\n",
       "      <td>American</td>\n",
       "      <td>11.59</td>\n",
       "      <td>25</td>\n",
       "      <td>24</td>\n",
       "    </tr>\n",
       "    <tr>\n",
       "      <th>12</th>\n",
       "      <td>American</td>\n",
       "      <td>24.30</td>\n",
       "      <td>23</td>\n",
       "      <td>17</td>\n",
       "    </tr>\n",
       "    <tr>\n",
       "      <th>14</th>\n",
       "      <td>American</td>\n",
       "      <td>12.13</td>\n",
       "      <td>23</td>\n",
       "      <td>30</td>\n",
       "    </tr>\n",
       "  </tbody>\n",
       "</table>\n",
       "</div>"
      ],
      "text/plain": [
       "   cuisine_type  cost_of_the_order  food_preparation_time  delivery_time\n",
       "1      Japanese              12.08                     25             23\n",
       "3      American              29.20                     25             15\n",
       "4      American              11.59                     25             24\n",
       "12     American              24.30                     23             17\n",
       "14     American              12.13                     23             30"
      ]
     },
     "execution_count": 32,
     "metadata": {},
     "output_type": "execute_result"
    }
   ],
   "source": [
    "#looking if there is a probability to predict wheter is is a Japanese or american restaurant based on the cost of the order, food preperation time and delivery time\n",
    "#Probably not, but we are just having fun with the dataset!\n",
    "#importing libraries\n",
    "from sklearn.neighbors import KNeighborsClassifier\n",
    "from sklearn.model_selection import train_test_split\n",
    "from sklearn import datasets, neighbors\n",
    "\n",
    "y = food_knn_am_jap['cuisine_type'].values\n",
    "X = food_knn_am_jap.drop('cuisine_type', axis=1).values\n",
    "\n",
    "X_train, X_test, y_train, y_test = train_test_split(X, y, test_size = 0.2, random_state=20, stratify=y)\n",
    "\n",
    "knn = KNeighborsClassifier(n_neighbors = 10)\n",
    "knn.fit(X_train,y_train)\n",
    "print(knn.score(X_test, y_test))\n",
    "y_pred = knn.predict(X)\n",
    "\n",
    "print(y_pred)\n",
    "food_knn_am_jap.head()"
   ]
  },
  {
   "cell_type": "code",
   "execution_count": 36,
   "metadata": {},
   "outputs": [
    {
     "name": "stdout",
     "output_type": "stream",
     "text": [
      "0.7736842105263158\n",
      "['Weekend' 'Weekend' 'Weekday' ... 'Weekend' 'Weekday' 'Weekend']\n"
     ]
    },
    {
     "data": {
      "text/html": [
       "<div>\n",
       "<style scoped>\n",
       "    .dataframe tbody tr th:only-of-type {\n",
       "        vertical-align: middle;\n",
       "    }\n",
       "\n",
       "    .dataframe tbody tr th {\n",
       "        vertical-align: top;\n",
       "    }\n",
       "\n",
       "    .dataframe thead th {\n",
       "        text-align: right;\n",
       "    }\n",
       "</style>\n",
       "<table border=\"1\" class=\"dataframe\">\n",
       "  <thead>\n",
       "    <tr style=\"text-align: right;\">\n",
       "      <th></th>\n",
       "      <th>day_of_the_week</th>\n",
       "      <th>cost_of_the_order</th>\n",
       "      <th>food_preparation_time</th>\n",
       "      <th>delivery_time</th>\n",
       "    </tr>\n",
       "  </thead>\n",
       "  <tbody>\n",
       "    <tr>\n",
       "      <th>0</th>\n",
       "      <td>Weekend</td>\n",
       "      <td>30.75</td>\n",
       "      <td>25</td>\n",
       "      <td>20</td>\n",
       "    </tr>\n",
       "    <tr>\n",
       "      <th>1</th>\n",
       "      <td>Weekend</td>\n",
       "      <td>12.08</td>\n",
       "      <td>25</td>\n",
       "      <td>23</td>\n",
       "    </tr>\n",
       "    <tr>\n",
       "      <th>2</th>\n",
       "      <td>Weekday</td>\n",
       "      <td>12.23</td>\n",
       "      <td>23</td>\n",
       "      <td>28</td>\n",
       "    </tr>\n",
       "    <tr>\n",
       "      <th>3</th>\n",
       "      <td>Weekend</td>\n",
       "      <td>29.20</td>\n",
       "      <td>25</td>\n",
       "      <td>15</td>\n",
       "    </tr>\n",
       "    <tr>\n",
       "      <th>4</th>\n",
       "      <td>Weekday</td>\n",
       "      <td>11.59</td>\n",
       "      <td>25</td>\n",
       "      <td>24</td>\n",
       "    </tr>\n",
       "  </tbody>\n",
       "</table>\n",
       "</div>"
      ],
      "text/plain": [
       "  day_of_the_week  cost_of_the_order  food_preparation_time  delivery_time\n",
       "0         Weekend              30.75                     25             20\n",
       "1         Weekend              12.08                     25             23\n",
       "2         Weekday              12.23                     23             28\n",
       "3         Weekend              29.20                     25             15\n",
       "4         Weekday              11.59                     25             24"
      ]
     },
     "execution_count": 36,
     "metadata": {},
     "output_type": "execute_result"
    }
   ],
   "source": [
    "#Seeing if we can predict the day of the week\n",
    "food_day = food[['day_of_the_week','cost_of_the_order', 'food_preparation_time', 'delivery_time']]\n",
    "y = food_day['day_of_the_week'].values\n",
    "X = food_day.drop('day_of_the_week', axis=1).values\n",
    "\n",
    "X_train, X_test, y_train, y_test = train_test_split(X, y, test_size = 0.2, random_state=50, stratify=y)\n",
    "\n",
    "knn = KNeighborsClassifier(n_neighbors = 28)\n",
    "knn.fit(X_train,y_train)\n",
    "print(knn.score(X_test, y_test))\n",
    "y_pred = knn.predict(X)\n",
    "\n",
    "print(y_pred)\n",
    "food_day.head()"
   ]
  },
  {
   "cell_type": "code",
   "execution_count": 37,
   "metadata": {},
   "outputs": [
    {
     "data": {
      "image/png": "[encoded data removed]",
      "text/plain": [
       "<Figure size 432x288 with 1 Axes>"
      ]
     },
     "metadata": {
      "needs_background": "light"
     },
     "output_type": "display_data"
    },
    {
     "name": "stdout",
     "output_type": "stream",
     "text": [
      "Minimum error:- 0.2026315789473684 at K = 156\n"
     ]
    }
   ],
   "source": [
    "#calculating the optimum amount of neighbours\n",
    "error_rate=[]\n",
    "for i in range(1,200):\n",
    "    knn = KNeighborsClassifier(n_neighbors=i)\n",
    "    knn.fit(X_train,y_train)\n",
    "    y_pred = knn.predict(X_test)\n",
    "    error_rate.append(np.mean(y_pred != y_test))\n",
    "    \n",
    "plt.plot(range(1,200), error_rate, linestyle='dashed', marker='o')\n",
    "plt.title('Error rate and amount of neighbours')\n",
    "plt.xlabel('Amount of neighbours')\n",
    "plt.ylabel('Error rate')\n",
    "plt.grid()\n",
    "plt.show()\n",
    "print(\"Minimum error:-\",min(error_rate),\"at K =\",error_rate.index(min(error_rate)))"
   ]
  },
  {
   "cell_type": "code",
   "execution_count": 42,
   "metadata": {},
   "outputs": [
    {
     "name": "stdout",
     "output_type": "stream",
     "text": [
      "[0.7434555  0.75789474 0.77894737 0.71052632 0.76315789 0.77894737\n",
      " 0.77894737 0.74074074 0.77777778 0.75661376]\n",
      "0.7587008825146053\n"
     ]
    }
   ],
   "source": [
    "from sklearn.model_selection import cross_val_score\n",
    "knn_cv = KNeighborsClassifier(n_neighbors=156)\n",
    "cv_scores = cross_val_score(knn_cv, X, y, cv=10)\n",
    "print(cv_scores)\n",
    "print(cv_scores.mean())"
   ]
  },
  {
   "cell_type": "code",
   "execution_count": 43,
   "metadata": {},
   "outputs": [
    {
     "name": "stdout",
     "output_type": "stream",
     "text": [
      "[[ 30  80]\n",
      " [  5 265]]\n",
      "              precision    recall  f1-score   support\n",
      "\n",
      "     Weekday       0.86      0.27      0.41       110\n",
      "     Weekend       0.77      0.98      0.86       270\n",
      "\n",
      "    accuracy                           0.78       380\n",
      "   macro avg       0.81      0.63      0.64       380\n",
      "weighted avg       0.79      0.78      0.73       380\n",
      "\n"
     ]
    }
   ],
   "source": [
    "#looking into the models performance\n",
    "from sklearn.metrics import classification_report\n",
    "from sklearn.metrics import confusion_matrix\n",
    "print(confusion_matrix(y_test, y_pred))\n",
    "print(classification_report(y_test, y_pred))"
   ]
  },
  {
   "cell_type": "code",
   "execution_count": null,
   "metadata": {},
   "outputs": [],
   "source": []
  },
  {
   "cell_type": "code",
   "execution_count": null,
   "metadata": {},
   "outputs": [],
   "source": []
  },
  {
   "cell_type": "code",
   "execution_count": null,
   "metadata": {},
   "outputs": [],
   "source": []
  },
  {
   "cell_type": "code",
   "execution_count": null,
   "metadata": {},
   "outputs": [],
   "source": []
  },
  {
   "cell_type": "code",
   "execution_count": null,
   "metadata": {},
   "outputs": [],
   "source": []
  },
  {
   "cell_type": "code",
   "execution_count": null,
   "metadata": {},
   "outputs": [],
   "source": []
  },
  {
   "cell_type": "code",
   "execution_count": null,
   "metadata": {},
   "outputs": [],
   "source": []
  },
  {
   "cell_type": "code",
   "execution_count": null,
   "metadata": {},
   "outputs": [],
   "source": []
  }
 ],
 "metadata": {
  "kernelspec": {
   "display_name": "Python 3",
   "language": "python",
   "name": "python3"
  },
  "language_info": {
   "codemirror_mode": {
    "name": "ipython",
    "version": 3
   },
   "file_extension": ".py",
   "mimetype": "text/x-python",
   "name": "python",
   "nbconvert_exporter": "python",
   "pygments_lexer": "ipython3",
   "version": "3.7.3"
  }
 },
 "nbformat": 4,
 "nbformat_minor": 4
}
